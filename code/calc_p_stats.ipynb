{
 "cells": [
  {
   "cell_type": "code",
   "execution_count": 18,
   "metadata": {},
   "outputs": [],
   "source": [
    "#imports\n",
    "import maup\n",
    "import geopandas as gpd\n",
    "from collections import Counter\n",
    "import warnings; warnings.filterwarnings('ignore', 'GeoSeries.isna', UserWarning)\n",
    "import pandas as pd\n",
    "import numpy as np\n",
    "import json\n",
    "import os\n",
    "import glob\n",
    "import pprint\n"
   ]
  },
  {
   "cell_type": "code",
   "execution_count": 19,
   "metadata": {},
   "outputs": [],
   "source": [
    "import matplotlib.pyplot as plt"
   ]
  },
  {
   "cell_type": "code",
   "execution_count": 20,
   "metadata": {},
   "outputs": [],
   "source": [
    "path = '/home/nix.39/SC_edgerry/output/csv/'\n",
    "name_list=[]\n",
    "for filename in glob.glob(os.path.join(path, '*.csv')): \n",
    "    name_list.append(filename.split(\"/\")[-1])\n",
    "    "
   ]
  },
  {
   "cell_type": "code",
   "execution_count": 21,
   "metadata": {},
   "outputs": [],
   "source": [
    "def find_pstat(df, column): \n",
    "    count= 0\n",
    "    observed= df1[column][0]\n",
    "    for i in range (0,len(df)):\n",
    "        if (df1[column][i] < observed):\n",
    "            count+=1\n",
    "    return (1- (count/len(df1)))\n",
    "\n",
    "#column= [avg_perc_black,gini, avg_income, interaction, isolation]"
   ]
  },
  {
   "cell_type": "code",
   "execution_count": 22,
   "metadata": {},
   "outputs": [],
   "source": [
    "def find_median_dstat(df, column): \n",
    "    return(np.median(df[column])-df[column][0])\n",
    "#column= [avg_perc_black,gini, avg_income, interaction, isolation]"
   ]
  },
  {
   "cell_type": "code",
   "execution_count": 37,
   "metadata": {},
   "outputs": [
    {
     "data": {
      "text/plain": [
       "<matplotlib.collections.LineCollection at 0x2acf3d061278>"
      ]
     },
     "execution_count": 37,
     "metadata": {},
     "output_type": "execute_result"
    },
    {
     "data": {
      "image/png": "[encoded data removed]",
      "text/plain": [
       "<Figure size 432x288 with 1 Axes>"
      ]
     },
     "metadata": {
      "needs_background": "light"
     },
     "output_type": "display_data"
    }
   ],
   "source": [
    "#average pct black \n",
    "pct_black_p= []\n",
    "pct_black_d=[]\n",
    "for filename in name_list:\n",
    "    df1= pd.read_csv(path + filename) \n",
    "    col_= \"avg_perc_black\"\n",
    "    pct_black_p.append(find_pstat(df=df1,column=col_))\n",
    "    pct_black_d.append(find_median_dstat(df=df1,column=col_))\n",
    "    \n",
    "plt.hist(pct_black_p) \n",
    "plt.hlines(51/10, 0,1)\n",
    "\n",
    "#plt.hist(pct_black_d) "
   ]
  },
  {
   "cell_type": "code",
   "execution_count": null,
   "metadata": {},
   "outputs": [],
   "source": []
  },
  {
   "cell_type": "code",
   "execution_count": 24,
   "metadata": {},
   "outputs": [
    {
     "data": {
      "text/plain": [
       "4.4"
      ]
     },
     "execution_count": 24,
     "metadata": {},
     "output_type": "execute_result"
    }
   ],
   "source": [
    "from scipy.stats import uniform\n",
    "\n",
    "44/10"
   ]
  },
  {
   "cell_type": "code",
   "execution_count": null,
   "metadata": {},
   "outputs": [],
   "source": []
  },
  {
   "cell_type": "code",
   "execution_count": 25,
   "metadata": {},
   "outputs": [
    {
     "data": {
      "text/plain": [
       "(array([ 1.,  0.,  2.,  1.,  6., 11., 19.,  7.,  3.,  1.]),\n",
       " array([-0.00548092, -0.00460415, -0.00372739, -0.00285063, -0.00197387,\n",
       "        -0.0010971 , -0.00022034,  0.00065642,  0.00153319,  0.00240995,\n",
       "         0.00328671]),\n",
       " <a list of 10 Patch objects>)"
      ]
     },
     "execution_count": 25,
     "metadata": {},
     "output_type": "execute_result"
    },
    {
     "data": {
      "image/png": "[encoded data removed]",
      "text/plain": [
       "<Figure size 432x288 with 1 Axes>"
      ]
     },
     "metadata": {
      "needs_background": "light"
     },
     "output_type": "display_data"
    }
   ],
   "source": [
    "plt.hist(pct_black_d) "
   ]
  },
  {
   "cell_type": "code",
   "execution_count": 26,
   "metadata": {},
   "outputs": [
    {
     "data": {
      "text/plain": [
       "(array([10.,  5.,  8.,  5.,  0.,  2.,  4.,  5.,  5.,  7.]),\n",
       " array([0.0042 , 0.10378, 0.20336, 0.30294, 0.40252, 0.5021 , 0.60168,\n",
       "        0.70126, 0.80084, 0.90042, 1.     ]),\n",
       " <a list of 10 Patch objects>)"
      ]
     },
     "execution_count": 26,
     "metadata": {},
     "output_type": "execute_result"
    },
    {
     "data": {
      "image/png": "[encoded data removed]",
      "text/plain": [
       "<Figure size 432x288 with 1 Axes>"
      ]
     },
     "metadata": {
      "needs_background": "light"
     },
     "output_type": "display_data"
    }
   ],
   "source": [
    "gini_p= []\n",
    "gini_d=[]\n",
    "for filename in name_list:\n",
    "    df1= pd.read_csv(path + filename) \n",
    "    col_= \"gini\" #, \"avg_income\", \"interaction\", \"isolation\"]\n",
    "    gini_p.append(find_pstat(column=col_,df=df1))\n",
    "    gini_d.append(find_median_dstat(df=df1,column=col_))\n",
    "    \n",
    "plt.hist(gini_p)   "
   ]
  },
  {
   "cell_type": "code",
   "execution_count": 27,
   "metadata": {},
   "outputs": [
    {
     "data": {
      "text/plain": [
       "(array([ 1.,  1.,  1.,  3.,  3., 15., 20.,  4.,  2.,  1.]),\n",
       " array([-0.04731508, -0.03961063, -0.03190618, -0.02420173, -0.01649729,\n",
       "        -0.00879284, -0.00108839,  0.00661606,  0.01432051,  0.02202495,\n",
       "         0.0297294 ]),\n",
       " <a list of 10 Patch objects>)"
      ]
     },
     "execution_count": 27,
     "metadata": {},
     "output_type": "execute_result"
    },
    {
     "data": {
      "image/png": "[encoded data removed]",
      "text/plain": [
       "<Figure size 432x288 with 1 Axes>"
      ]
     },
     "metadata": {
      "needs_background": "light"
     },
     "output_type": "display_data"
    }
   ],
   "source": [
    "plt.hist(gini_d)"
   ]
  },
  {
   "cell_type": "code",
   "execution_count": 28,
   "metadata": {},
   "outputs": [
    {
     "data": {
      "text/plain": [
       "(array([6., 5., 9., 8., 4., 3., 0., 5., 3., 8.]),\n",
       " array([0.00169492, 0.10152542, 0.20135593, 0.30118644, 0.40101695,\n",
       "        0.50084746, 0.60067797, 0.70050847, 0.80033898, 0.90016949,\n",
       "        1.        ]),\n",
       " <a list of 10 Patch objects>)"
      ]
     },
     "execution_count": 28,
     "metadata": {},
     "output_type": "execute_result"
    },
    {
     "data": {
      "image/png": "[encoded data removed]",
      "text/plain": [
       "<Figure size 432x288 with 1 Axes>"
      ]
     },
     "metadata": {
      "needs_background": "light"
     },
     "output_type": "display_data"
    }
   ],
   "source": [
    "avgi_p= []\n",
    "avgi_d=[]\n",
    "for filename in name_list:\n",
    "    df1= pd.read_csv(path + filename) \n",
    "    col_=\"avg_income\" #, \"interaction\", \"isolation\"]\n",
    "    avgi_p.append(find_pstat(column=col_,df=df1))\n",
    "    avgi_d.append(find_median_dstat(df=df1,column=col_))\n",
    "plt.hist(avgi_p)   "
   ]
  },
  {
   "cell_type": "code",
   "execution_count": 29,
   "metadata": {},
   "outputs": [
    {
     "data": {
      "text/plain": [
       "(array([ 1.,  0.,  1.,  8., 31.,  7.,  1.,  1.,  0.,  1.]),\n",
       " array([-1894.46827849, -1450.84687945, -1007.22548041,  -563.60408137,\n",
       "         -119.98268233,   323.63871671,   767.26011575,  1210.88151479,\n",
       "         1654.50291383,  2098.12431287,  2541.74571191]),\n",
       " <a list of 10 Patch objects>)"
      ]
     },
     "execution_count": 29,
     "metadata": {},
     "output_type": "execute_result"
    },
    {
     "data": {
      "image/png": "[encoded data removed]",
      "text/plain": [
       "<Figure size 432x288 with 1 Axes>"
      ]
     },
     "metadata": {
      "needs_background": "light"
     },
     "output_type": "display_data"
    }
   ],
   "source": [
    "plt.hist(avgi_d) "
   ]
  },
  {
   "cell_type": "code",
   "execution_count": 30,
   "metadata": {},
   "outputs": [
    {
     "data": {
      "text/plain": [
       "(array([ 7.,  7.,  2.,  5.,  0.,  4.,  5.,  6.,  5., 10.]),\n",
       " array([6.0000e-04, 1.0054e-01, 2.0048e-01, 3.0042e-01, 4.0036e-01,\n",
       "        5.0030e-01, 6.0024e-01, 7.0018e-01, 8.0012e-01, 9.0006e-01,\n",
       "        1.0000e+00]),\n",
       " <a list of 10 Patch objects>)"
      ]
     },
     "execution_count": 30,
     "metadata": {},
     "output_type": "execute_result"
    },
    {
     "data": {
      "image/png": "[encoded data removed]",
      "text/plain": [
       "<Figure size 432x288 with 1 Axes>"
      ]
     },
     "metadata": {
      "needs_background": "light"
     },
     "output_type": "display_data"
    }
   ],
   "source": [
    "inter_p= []\n",
    "inter_d=[]\n",
    "for filename in name_list:\n",
    "    df1= pd.read_csv(path + filename) \n",
    "    col_= \"interaction\" #, \"isolation\"]\n",
    "    inter_p.append(find_pstat(column=col_,df=df1))\n",
    "    inter_d.append(find_median_dstat(column=col_, df=df1))\n",
    "    \n",
    "plt.hist(inter_p)  "
   ]
  },
  {
   "cell_type": "code",
   "execution_count": 31,
   "metadata": {},
   "outputs": [
    {
     "data": {
      "text/plain": [
       "(array([ 2.,  0.,  2.,  3., 14., 19.,  7.,  3.,  0.,  1.]),\n",
       " array([-1.52245918e-02, -1.21812388e-02, -9.13788588e-03, -6.09453292e-03,\n",
       "        -3.05117996e-03, -7.82700208e-06,  3.03552596e-03,  6.07887892e-03,\n",
       "         9.12223188e-03,  1.21655848e-02,  1.52089378e-02]),\n",
       " <a list of 10 Patch objects>)"
      ]
     },
     "execution_count": 31,
     "metadata": {},
     "output_type": "execute_result"
    },
    {
     "data": {
      "image/png": "[encoded data removed]",
      "text/plain": [
       "<Figure size 432x288 with 1 Axes>"
      ]
     },
     "metadata": {
      "needs_background": "light"
     },
     "output_type": "display_data"
    }
   ],
   "source": [
    "plt.hist(inter_d)  "
   ]
  },
  {
   "cell_type": "code",
   "execution_count": 32,
   "metadata": {},
   "outputs": [
    {
     "data": {
      "text/plain": [
       "(array([9., 4., 7., 6., 3., 1., 3., 8., 3., 7.]),\n",
       " array([0.0048 , 0.10432, 0.20384, 0.30336, 0.40288, 0.5024 , 0.60192,\n",
       "        0.70144, 0.80096, 0.90048, 1.     ]),\n",
       " <a list of 10 Patch objects>)"
      ]
     },
     "execution_count": 32,
     "metadata": {},
     "output_type": "execute_result"
    },
    {
     "data": {
      "image/png": "[encoded data removed]",
      "text/plain": [
       "<Figure size 432x288 with 1 Axes>"
      ]
     },
     "metadata": {
      "needs_background": "light"
     },
     "output_type": "display_data"
    }
   ],
   "source": [
    "iso_p= []\n",
    "iso_d=[]\n",
    "for filename in name_list:\n",
    "    df1= pd.read_csv(path + filename) \n",
    "    col_= \"isolation\" \n",
    "    iso_p.append(find_pstat(column=col_,df=df1))\n",
    "    iso_d.append(find_median_dstat(column=col_,df=df1))\n",
    "plt.hist(iso_p)  "
   ]
  },
  {
   "cell_type": "code",
   "execution_count": 33,
   "metadata": {},
   "outputs": [
    {
     "data": {
      "text/plain": [
       "(array([ 1.,  4.,  1.,  9., 20., 10.,  3.,  1.,  0.,  2.]),\n",
       " array([-0.00729773, -0.00577955, -0.00426137, -0.00274319, -0.00122501,\n",
       "         0.00029317,  0.00181135,  0.00332953,  0.00484772,  0.0063659 ,\n",
       "         0.00788408]),\n",
       " <a list of 10 Patch objects>)"
      ]
     },
     "execution_count": 33,
     "metadata": {},
     "output_type": "execute_result"
    },
    {
     "data": {
      "image/png": "[encoded data removed]",
      "text/plain": [
       "<Figure size 432x288 with 1 Axes>"
      ]
     },
     "metadata": {
      "needs_background": "light"
     },
     "output_type": "display_data"
    }
   ],
   "source": [
    "plt.hist(iso_d) "
   ]
  },
  {
   "cell_type": "code",
   "execution_count": 34,
   "metadata": {},
   "outputs": [],
   "source": [
    "#gathering there are no real trends in the aggregate? \n"
   ]
  },
  {
   "cell_type": "code",
   "execution_count": null,
   "metadata": {},
   "outputs": [],
   "source": []
  },
  {
   "cell_type": "code",
   "execution_count": 35,
   "metadata": {},
   "outputs": [],
   "source": [
    "#MAKE A FIGURE WOO "
   ]
  },
  {
   "cell_type": "code",
   "execution_count": 42,
   "metadata": {},
   "outputs": [
    {
     "data": {
      "image/png": "[encoded data removed]",
      "text/plain": [
       "<Figure size 720x504 with 4 Axes>"
      ]
     },
     "metadata": {
      "needs_background": "light"
     },
     "output_type": "display_data"
    }
   ],
   "source": [
    "# P-Stats \n",
    "\n",
    "\n",
    "fig, axs = plt.subplots(2, 2,figsize =(10, 7))\n",
    "fig.suptitle(\"Distribution of p-Stats Across 51 MN School Districts\")\n",
    "axs[0, 0].hist(gini_p, color=\"lightsteelblue\")\n",
    "axs[0, 0].hlines(51/10,0,1,colors=\"grey\")\n",
    "axs[0, 0].set_title('Gini')\n",
    "axs[0, 1].hist(inter_p, color=\"lightsteelblue\")\n",
    "axs[0, 1].hlines(51/10,0,1,colors=\"grey\")\n",
    "axs[0, 1].set_title('Interaction')\n",
    "axs[1, 0].hist(iso_p,color=\"lightsteelblue\")\n",
    "axs[1, 0].hlines(51/10,0,1,colors=\"grey\")\n",
    "axs[1, 0].set_title('Isolation')\n",
    "axs[1, 1].hist(pct_black_p,color=\"lightsteelblue\")\n",
    "axs[1, 1].hlines(51/10,0,1,colors=\"grey\")\n",
    "axs[1, 1].set_title('% Black')\n",
    "\n",
    "\n",
    "ct=0\n",
    "for ax in axs.flat:\n",
    "    if (ct ==2 or ct ==0):\n",
    "        ax.set(xlabel='', ylabel='# of Districts')\n",
    "    else:\n",
    "        ax.set(xlabel='', ylabel=\"\")\n",
    "    ct +=1\n",
    "\n",
    "plt.savefig(\"p_stats.png\", dpi=500)\n"
   ]
  },
  {
   "cell_type": "code",
   "execution_count": 45,
   "metadata": {},
   "outputs": [
    {
     "data": {
      "image/png": "[encoded data removed]",
      "text/plain": [
       "<Figure size 720x504 with 4 Axes>"
      ]
     },
     "metadata": {
      "needs_background": "light"
     },
     "output_type": "display_data"
    }
   ],
   "source": [
    "# P-Stats \n",
    "\n",
    "\n",
    "fig, axs = plt.subplots(2, 2,figsize =(10, 7))\n",
    "fig.suptitle(\"Distribution of d-Stats Across 51 MN School Districts\")\n",
    "axs[0, 0].hist(gini_d, color=\"lightsteelblue\")\n",
    "axs[0, 0].set_title('Gini')\n",
    "axs[0, 1].hist(inter_d, color=\"lightsteelblue\")\n",
    "axs[0, 1].set_title('Interaction')\n",
    "axs[1, 0].hist(iso_d,color=\"lightsteelblue\")\n",
    "axs[1, 0].set_title('Isolation')\n",
    "axs[1, 1].hist(pct_black_d,color=\"lightsteelblue\")\n",
    "axs[1, 1].set_title('% Black')\n",
    "\n",
    "\n",
    "ct=0\n",
    "for ax in axs.flat:\n",
    "    if (ct ==2 or ct ==0):\n",
    "        ax.set(xlabel='', ylabel='# of Districts')\n",
    "    else:\n",
    "        ax.set(xlabel='', ylabel=\"\")\n",
    "    ct +=1\n",
    "\n",
    "plt.savefig(\"d_stats.png\", dpi=500)\n"
   ]
  },
  {
   "cell_type": "code",
   "execution_count": 23,
   "metadata": {},
   "outputs": [
    {
     "data": {
      "text/plain": [
       "KstestResult(statistic=0.9967132876400127, pvalue=0.0)"
      ]
     },
     "execution_count": 23,
     "metadata": {},
     "output_type": "execute_result"
    }
   ],
   "source": [
    "#RUN KS test! \n",
    "\n",
    "from scipy import stats\n",
    "#x = np.random.uniform(size=len(pct_black_d))\n",
    "stats.kstest(pct_black_d, 'uniform', args=(0, 1))\n"
   ]
  },
  {
   "cell_type": "code",
   "execution_count": null,
   "metadata": {},
   "outputs": [],
   "source": [
    "#Or you can compare the p-value to a level of significance a, usually a=0.05 or 0.01\n",
    "#(you decide, the lower a is, the more significant). If p-value is lower than a, \n",
    "#then it is very probable that the two distributions are different.\n",
    "\n",
    "#https://stackoverflow.com/questions/10884668/two-sample-kolmogorov-smirnov-test-in-python-scipy\n",
    "    \n",
    "#https://www.statisticshowto.com/kolmogorov-smirnov-test/"
   ]
  },
  {
   "cell_type": "code",
   "execution_count": 25,
   "metadata": {},
   "outputs": [
    {
     "data": {
      "text/plain": [
       "KstestResult(statistic=0.1995803921568628, pvalue=0.029516197707533776)"
      ]
     },
     "execution_count": 25,
     "metadata": {},
     "output_type": "execute_result"
    }
   ],
   "source": [
    "stats.kstest(gini_p, 'uniform', args=(0, 1))\n",
    "#p-value of .029 --> what? \n",
    "#since p-value < .05 --> distributions ARE different. "
   ]
  },
  {
   "cell_type": "code",
   "execution_count": 29,
   "metadata": {},
   "outputs": [
    {
     "data": {
      "text/plain": [
       "KstestResult(statistic=0.1299019607843137, pvalue=0.32828991822132525)"
      ]
     },
     "execution_count": 29,
     "metadata": {},
     "output_type": "execute_result"
    }
   ],
   "source": [
    "stats.kstest(pct_black_p, 'uniform', args=(0, 1))\n",
    "#p-value of .328 -->  distributions are NOT different "
   ]
  },
  {
   "cell_type": "code",
   "execution_count": 27,
   "metadata": {},
   "outputs": [
    {
     "data": {
      "text/plain": [
       "KstestResult(statistic=0.15654901960784318, pvalue=0.1474429341309893)"
      ]
     },
     "execution_count": 27,
     "metadata": {},
     "output_type": "execute_result"
    }
   ],
   "source": [
    "stats.kstest(inter_p, 'uniform', args=(0, 1))\n",
    "#distributions are NOT different "
   ]
  },
  {
   "cell_type": "code",
   "execution_count": 30,
   "metadata": {},
   "outputs": [
    {
     "data": {
      "text/plain": [
       "KstestResult(statistic=0.16260392156862746, pvalue=0.12039920943364968)"
      ]
     },
     "execution_count": 30,
     "metadata": {},
     "output_type": "execute_result"
    }
   ],
   "source": [
    "stats.kstest(iso_p, 'uniform', args=(0, 1))\n",
    "#distributions are NOT different  "
   ]
  },
  {
   "cell_type": "code",
   "execution_count": 22,
   "metadata": {},
   "outputs": [
    {
     "data": {
      "text/plain": [
       "(array([5., 2., 8., 9., 2., 6., 6., 4., 4., 5.]),\n",
       " array([0.01978891, 0.11319886, 0.20660882, 0.30001877, 0.39342872,\n",
       "        0.48683867, 0.58024862, 0.67365858, 0.76706853, 0.86047848,\n",
       "        0.95388843]),\n",
       " <a list of 10 Patch objects>)"
      ]
     },
     "execution_count": 22,
     "metadata": {},
     "output_type": "execute_result"
    },
    {
     "data": {
      "image/png": "[encoded data removed]",
      "text/plain": [
       "<Figure size 432x288 with 1 Axes>"
      ]
     },
     "metadata": {
      "needs_background": "light"
     },
     "output_type": "display_data"
    }
   ],
   "source": [
    "plt.hist(x)"
   ]
  },
  {
   "cell_type": "code",
   "execution_count": null,
   "metadata": {},
   "outputs": [],
   "source": [
    "#testing code "
   ]
  },
  {
   "cell_type": "code",
   "execution_count": 47,
   "metadata": {},
   "outputs": [
    {
     "data": {
      "text/plain": [
       "0.14703405262678687"
      ]
     },
     "execution_count": 47,
     "metadata": {},
     "output_type": "execute_result"
    }
   ],
   "source": [
    "df1= pd.read_csv(path + \"323.csv\") \n",
    "df1[\"gini\"][0]"
   ]
  },
  {
   "cell_type": "code",
   "execution_count": 48,
   "metadata": {},
   "outputs": [
    {
     "data": {
      "text/plain": [
       "0.14553173085677865"
      ]
     },
     "execution_count": 48,
     "metadata": {},
     "output_type": "execute_result"
    }
   ],
   "source": [
    "np.median(df1[\"gini\"])"
   ]
  },
  {
   "cell_type": "code",
   "execution_count": 29,
   "metadata": {},
   "outputs": [
    {
     "data": {
      "text/plain": [
       "0.1156"
      ]
     },
     "execution_count": 29,
     "metadata": {},
     "output_type": "execute_result"
    }
   ],
   "source": [
    "find_pstat(df1,\"interaction\")"
   ]
  }
 ],
 "metadata": {
  "kernelspec": {
   "display_name": "Python 3",
   "language": "python",
   "name": "python3"
  },
  "language_info": {
   "codemirror_mode": {
    "name": "ipython",
    "version": 3
   },
   "file_extension": ".py",
   "mimetype": "text/x-python",
   "name": "python",
   "nbconvert_exporter": "python",
   "pygments_lexer": "ipython3",
   "version": "3.7.0"
  }
 },
 "nbformat": 4,
 "nbformat_minor": 2
}
